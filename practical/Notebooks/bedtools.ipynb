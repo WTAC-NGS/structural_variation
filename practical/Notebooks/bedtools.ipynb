{
 "cells": [
  {
   "cell_type": "markdown",
   "metadata": {},
   "source": [
    "# Bedtools\n",
    "\n",
    "Bedtools is an extremely useful tool for doing regional comparisons over genomic co-ordinates. It has many commands for doing region based comparisons with BAM, VCF, GFF, BED file formats.\n",
    "\n",
    "To see the list of commands available, on the command line type:"
   ]
  },
  {
   "cell_type": "code",
   "execution_count": null,
   "metadata": {},
   "outputs": [],
   "source": [
    "bedtools"
   ]
  },
  {
   "cell_type": "markdown",
   "metadata": {},
   "source": [
    "Navigate to the `exercise5` directory."
   ]
  },
  {
   "cell_type": "code",
   "execution_count": null,
   "metadata": {},
   "outputs": [],
   "source": [
    "cd ../exercise5"
   ]
  },
  {
   "cell_type": "code",
   "execution_count": null,
   "metadata": {},
   "outputs": [],
   "source": [
    "ls"
   ]
  },
  {
   "cell_type": "markdown",
   "metadata": {},
   "source": [
    "In this directory, there are two VCF files and the yeast genome annotation in GFF3 format `Saccharomyces_cerevisiae.R64-1-1.82.genes.gff3`.\n",
    "\n",
    "### bedtools intersect\n",
    "\n",
    "The `bedtools intersect` command can be used to find out how many SVs intersect with annotated regions of the genome. For the intersect command, the -a and -b parameters are used to denote the input files."
   ]
  },
  {
   "cell_type": "code",
   "execution_count": null,
   "metadata": {},
   "outputs": [],
   "source": [
    "bedtools intersect -a ERR1015069.dels.vcf -b Saccharomyces_cerevisiae.R64-1-1.82.genes.gff3"
   ]
  },
  {
   "cell_type": "markdown",
   "metadata": {},
   "source": [
    "This command determines which SVs in `ERR1015069.dels.vcf` overlap with an annotated region of the yeast genome.\n",
    "\n",
    "The default is to report overlaps between features in A and B so long as at least one base pair of overlap exists. However, the `-f` option allows you to specify what fraction of each feature in A should be overlapped by a feature in B before it is reported.\n",
    "\n",
    "To specify a more strict intersect and require 25% of overlap between the SV and the genes use the command:"
   ]
  },
  {
   "cell_type": "code",
   "execution_count": null,
   "metadata": {},
   "outputs": [],
   "source": [
    "bedtools intersect -u -f 0.25 -a ERR1015069.dels.vcf -b Saccharomyces_cerevisiae.R64-1-1.82.genes.gff3"
   ]
  },
  {
   "cell_type": "markdown",
   "metadata": {},
   "source": [
    "The `bedtools intersect` command can also be used to determine how many SVs overlap between two VCF files.\n",
    "\n",
    "### bedtools closest\n",
    "\n",
    "The `bedtools closest` command can be used to find the closest feature to an SV."
   ]
  },
  {
   "cell_type": "code",
   "execution_count": null,
   "metadata": {},
   "outputs": [],
   "source": [
    "bedtools closest"
   ]
  },
  {
   "cell_type": "markdown",
   "metadata": {},
   "source": [
    "## Exercises\n",
    "\n",
    "1. How many SVs found in `ERR1015069.dels.vcf` overlap with a gene? (**Hint:** Use bedtools intersect and the wc command)\n",
    "\n",
    "2. How many SVs found in `ERR1015069.dels.vcf` do not overlap with a gene? (**Hint:** note the -v parameter to bedtools intersect)\n",
    "\n",
    "3.  How many SVs found in `ERR1015069.dels.vcf` overlap with a more strict definition of 50%?\n",
    "\n",
    "4. What is the closest gene to the structural variant at IV:384220 in `ERR1015069.dels.vcf`?\n",
    "\n",
    "4. How many SVs overlap between the two files `ERR1015069.dels.vcf` and `ERR1015121.dels.vcf`?\n",
    "\n",
    "5. How many SVs have a 50% reciprocal overlap between the two files `ERR1015069.dels.vcf` and `ERR1015121.dels.vcf` (**Hint:** first find the option for reciprocal overlap by typing: bedtools intersect -h)"
   ]
  },
  {
   "cell_type": "markdown",
   "metadata": {},
   "source": [
    "Congratulations, you have reached the end of the tutorial."
   ]
  }
 ],
 "metadata": {
  "kernelspec": {
   "display_name": "Bash",
   "language": "bash",
   "name": "bash"
  },
  "language_info": {
   "codemirror_mode": "shell",
   "file_extension": ".sh",
   "mimetype": "text/x-sh",
   "name": "bash"
  }
 },
 "nbformat": 4,
 "nbformat_minor": 2
}
