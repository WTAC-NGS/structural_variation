{
 "cells": [
  {
   "cell_type": "markdown",
   "metadata": {},
   "source": [
    "# Calling Structural Variants from Long Reads "
   ]
  },
  {
   "cell_type": "markdown",
   "metadata": {},
   "source": [
    "In this part of the tutorial we will use long read data to identify structural variants using the SV caller Sniffles.\n",
    "\n",
    "First navigate to the `exercise4` directory:"
   ]
  },
  {
   "cell_type": "code",
   "execution_count": null,
   "metadata": {},
   "outputs": [],
   "source": [
    "cd ../exercise4"
   ]
  },
  {
   "cell_type": "code",
   "execution_count": null,
   "metadata": {},
   "outputs": [],
   "source": [
    "ls"
   ]
  },
  {
   "cell_type": "markdown",
   "metadata": {},
   "source": [
    "## Introducing the dataset\n",
    "\n",
    "We will use data from a Saccharomyces cerevisiae strain (YPS128) that was sequenced at the Wellcome Sanger Institute and deposited in the ENA (Project: PRJEB7245, sample: SAMEA2757770, analysis: ERZ448241).\n",
    "\n",
    "The sequencing reads are contained in a fastq file:\n",
    "\n",
    "`YPS128.filtered_subreads.10x.fastq.gz`\n",
    "\n",
    "The reference genome is in the ref directory in a fasta file:\n",
    "\n",
    "`Saccharomyces_cerevisiae.R64-1-1.dna.toplevel.fa`"
   ]
  },
  {
   "cell_type": "markdown",
   "metadata": {},
   "source": [
    "## Align the data\n",
    "\n",
    "Before you can use Sniffles to call SVs, it is very important that the reads are aligned with an aligner suitable for long reads.\n",
    "\n",
    "The software minimap2 is a long-read aligner designed to align PacBio or Oxford Nanopore (standard and ultra-long) to a reference genome.\n",
    "\n",
    "You can find the usage of minimap2 by typing:"
   ]
  },
  {
   "cell_type": "code",
   "execution_count": null,
   "metadata": {},
   "outputs": [],
   "source": [
    "minimap2"
   ]
  },
  {
   "cell_type": "markdown",
   "metadata": {},
   "source": [
    "Align the reads with minimap2 and send the output to a SAM file called YPS128.10x.filtered_subreads.sam. "
   ]
  },
  {
   "cell_type": "code",
   "execution_count": null,
   "metadata": {},
   "outputs": [],
   "source": []
  },
  {
   "cell_type": "markdown",
   "metadata": {},
   "source": [
    "**Note:** use the -t parameter to use multiple threads in parallel (this will increase the speed of the alignment by using more than one CPU core, I suggest using 2)."
   ]
  },
  {
   "cell_type": "markdown",
   "metadata": {},
   "source": [
    "Convert the output to BAM format **Hint:** use samtools view -b"
   ]
  },
  {
   "cell_type": "code",
   "execution_count": null,
   "metadata": {},
   "outputs": [],
   "source": []
  },
  {
   "cell_type": "markdown",
   "metadata": {},
   "source": [
    "Sort the BAM file and produce a sorted BAM file called `YPS128.10x.filtered_subreads.sorted.bam`. **Hint:** Use samtools sort. "
   ]
  },
  {
   "cell_type": "code",
   "execution_count": null,
   "metadata": {},
   "outputs": [],
   "source": []
  },
  {
   "cell_type": "markdown",
   "metadata": {},
   "source": [
    "Use samtools calmd to calculates MD and NM tags. This enables variant calling without requiring access to the entire original reference."
   ]
  },
  {
   "cell_type": "code",
   "execution_count": null,
   "metadata": {},
   "outputs": [],
   "source": [
    "samtools calmd YPS128.filtered_subreads.10x.fastq.sorted.bam ../ref/Saccharomyces_cerevisiae.R64-1-1.dna.toplevel.fa |samtools view -o YPS128.filtered_subreads.10x.fastq.sorted.calmd.bam -O bam -"
   ]
  },
  {
   "cell_type": "markdown",
   "metadata": {},
   "source": [
    "Finally, use samtools to index this BAM file. **Hint** Use samtools index"
   ]
  },
  {
   "cell_type": "code",
   "execution_count": null,
   "metadata": {},
   "outputs": [],
   "source": []
  },
  {
   "cell_type": "markdown",
   "metadata": {},
   "source": [
    "## Call structural variants\n",
    "\n",
    "Sniffles is a structural variation (SV) caller that is designed for long reads (Pacbio or Oxford Nanopore). It detects all types of SVs (10bp+) using evidence from split-read alignments, high-mismatch regions, and coverage analysis. Sniffles takes the BAM file as input and outputs VCF. \n",
    "\n",
    "To find the usage for Sniffles, type:"
   ]
  },
  {
   "cell_type": "markdown",
   "metadata": {},
   "source": [
    "sniffles"
   ]
  },
  {
   "cell_type": "markdown",
   "metadata": {},
   "source": [
    "Using the default parameters, call SVs with Sniffles and output the results to a VCF file called `YPS128.10x.vcf`. "
   ]
  },
  {
   "cell_type": "code",
   "execution_count": null,
   "metadata": {},
   "outputs": [],
   "source": []
  },
  {
   "cell_type": "markdown",
   "metadata": {},
   "source": [
    "**Hint:** You don’t need to change any of the default parameters, but you will need to work out how to provide the input BAM file and specify the output VCF file. The documentation on sniffles is here : [https://github.com/fritzsedlazeck/Sniffles/wiki/Parameter]( https://github.com/fritzsedlazeck/Sniffles/wiki/Parameter)."
   ]
  },
  {
   "cell_type": "markdown",
   "metadata": {},
   "source": [
    "## Inspecting SVs with IGV\n",
    "\n",
    "Open IGV:"
   ]
  },
  {
   "cell_type": "code",
   "execution_count": null,
   "metadata": {},
   "outputs": [],
   "source": [
    "igv"
   ]
  },
  {
   "cell_type": "markdown",
   "metadata": {},
   "source": [
    "Open the reference genome `Saccharomyces_cerevisiae.R64-1-1.dna.toplevel.fa` and load the VCF file `YPS128.10x.vcf`. Now answer the questions that follow."
   ]
  },
  {
   "cell_type": "markdown",
   "metadata": {},
   "source": [
    "## Exercises\n",
    "\n",
    "1. What sort of SV was called at on chromosome ‘Mito’ at position 29295?\n",
    "2. What is the length of the SV?\n",
    "3. How many reads are supporting the SV?\n",
    "4. From a visual inspection of the SV in IGV, can you determine how accurate is the breakpoint of the called SV compared to what you see in IGV? [**Hint:** Better directions on what to do here.]"
   ]
  },
  {
   "cell_type": "markdown",
   "metadata": {},
   "source": [
    "Now continue to the next section of the tutorial: [bedtools](bedtools.ipynb)"
   ]
  }
 ],
 "metadata": {
  "kernelspec": {
   "display_name": "Bash",
   "language": "bash",
   "name": "bash"
  },
  "language_info": {
   "codemirror_mode": "shell",
   "file_extension": ".sh",
   "mimetype": "text/x-sh",
   "name": "bash"
  }
 },
 "nbformat": 4,
 "nbformat_minor": 2
}
